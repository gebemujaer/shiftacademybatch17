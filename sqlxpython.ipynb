{
 "cells": [
  {
   "cell_type": "code",
   "execution_count": 1,
   "id": "3e11ca3c",
   "metadata": {},
   "outputs": [
    {
     "name": "stdout",
     "output_type": "stream",
     "text": [
      "Requirement already satisfied: psycopg2-binary in ./opt/anaconda3/lib/python3.9/site-packages (2.9.3)\n",
      "Note: you may need to restart the kernel to use updated packages.\n"
     ]
    }
   ],
   "source": [
    "pip install psycopg2-binary"
   ]
  },
  {
   "cell_type": "code",
   "execution_count": 2,
   "id": "46086e34",
   "metadata": {},
   "outputs": [],
   "source": [
    "from configparser import ConfigParser\n",
    "#ambil suatu function yang bernama configparser\n",
    "#dari suatu library yang bernama ConfigParser"
   ]
  },
  {
   "cell_type": "code",
   "execution_count": 10,
   "id": "0a5226e4",
   "metadata": {},
   "outputs": [],
   "source": [
    "def config(filename = 'database.ini' , section = 'postgresql'):\n",
    "    #create parser\n",
    "    parser = ConfigParser()\n",
    "    #read config file\n",
    "    parser.read(filename) #ConfigParser().read(filename)\n",
    "    \n",
    "    #get section, default postgresql\n",
    "    db = {}\n",
    "    if parser.has_section(section):\n",
    "        params = parser.item(section)\n",
    "        for params in params:\n",
    "            db[param[0]] = param [1]\n",
    "    else:\n",
    "        raise Exception('Section {0} not found in the {1} file'.format(section,filename))\n",
    "    return db"
   ]
  },
  {
   "cell_type": "code",
   "execution_count": 13,
   "id": "24060f49",
   "metadata": {},
   "outputs": [],
   "source": [
    "import psycopg2\n",
    "import pandas as pd\n"
   ]
  },
  {
   "cell_type": "code",
   "execution_count": 23,
   "id": "2ce174ac",
   "metadata": {},
   "outputs": [],
   "source": [
    "#Connect to PostgreSQL database\n",
    "\n",
    "conn = psycopg2.connect(\n",
    "    host = 'localhost', \n",
    "    database = 'dvdrental', \n",
    "    user = 'postgres', \n",
    "    password = '12345', \n",
    "    port = '5433')\n",
    "cur = conn.cursor()"
   ]
  },
  {
   "cell_type": "code",
   "execution_count": 20,
   "id": "66430531",
   "metadata": {},
   "outputs": [
    {
     "name": "stdout",
     "output_type": "stream",
     "text": [
      "Name: pandas\n",
      "Version: 1.4.2\n",
      "Summary: Powerful data structures for data analysis, time series, and statistics\n",
      "Home-page: https://pandas.pydata.org\n",
      "Author: The Pandas Development Team\n",
      "Author-email: pandas-dev@python.org\n",
      "License: BSD-3-Clause\n",
      "Location: /Users/gebemujaer/opt/anaconda3/lib/python3.9/site-packages\n",
      "Requires: python-dateutil, pytz, numpy\n",
      "Required-by: xarray, statsmodels, seaborn, hvplot, holoviews, datashader\n",
      "Note: you may need to restart the kernel to use updated packages.\n"
     ]
    }
   ],
   "source": [
    "pip show pandas"
   ]
  },
  {
   "cell_type": "code",
   "execution_count": 24,
   "id": "00c0232e",
   "metadata": {},
   "outputs": [],
   "source": [
    "# A function that takes a PostgreSQL query and outputs a pandas dataframe\n",
    "def create_pandas_table(sql_query, database = conn):\n",
    "    table = pd.read_sql(sql_query, database)\n",
    "    return table"
   ]
  },
  {
   "cell_type": "code",
   "execution_count": 25,
   "id": "ec362228",
   "metadata": {},
   "outputs": [
    {
     "name": "stderr",
     "output_type": "stream",
     "text": [
      "/Users/gebemujaer/opt/anaconda3/lib/python3.9/site-packages/pandas/io/sql.py:761: UserWarning: pandas only support SQLAlchemy connectable(engine/connection) ordatabase string URI or sqlite3 DBAPI2 connectionother DBAPI2 objects are not tested, please consider using SQLAlchemy\n",
      "  warnings.warn(\n"
     ]
    },
    {
     "data": {
      "text/html": [
       "<div>\n",
       "<style scoped>\n",
       "    .dataframe tbody tr th:only-of-type {\n",
       "        vertical-align: middle;\n",
       "    }\n",
       "\n",
       "    .dataframe tbody tr th {\n",
       "        vertical-align: top;\n",
       "    }\n",
       "\n",
       "    .dataframe thead th {\n",
       "        text-align: right;\n",
       "    }\n",
       "</style>\n",
       "<table border=\"1\" class=\"dataframe\">\n",
       "  <thead>\n",
       "    <tr style=\"text-align: right;\">\n",
       "      <th></th>\n",
       "      <th>payment_id</th>\n",
       "      <th>customer_id</th>\n",
       "      <th>staff_id</th>\n",
       "      <th>rental_id</th>\n",
       "      <th>amount</th>\n",
       "      <th>payment_date</th>\n",
       "    </tr>\n",
       "  </thead>\n",
       "  <tbody>\n",
       "    <tr>\n",
       "      <th>0</th>\n",
       "      <td>17503</td>\n",
       "      <td>341</td>\n",
       "      <td>2</td>\n",
       "      <td>1520</td>\n",
       "      <td>7.99</td>\n",
       "      <td>2007-02-15 22:25:46.996577</td>\n",
       "    </tr>\n",
       "    <tr>\n",
       "      <th>1</th>\n",
       "      <td>17504</td>\n",
       "      <td>341</td>\n",
       "      <td>1</td>\n",
       "      <td>1778</td>\n",
       "      <td>1.99</td>\n",
       "      <td>2007-02-16 17:23:14.996577</td>\n",
       "    </tr>\n",
       "    <tr>\n",
       "      <th>2</th>\n",
       "      <td>17505</td>\n",
       "      <td>341</td>\n",
       "      <td>1</td>\n",
       "      <td>1849</td>\n",
       "      <td>7.99</td>\n",
       "      <td>2007-02-16 22:41:45.996577</td>\n",
       "    </tr>\n",
       "    <tr>\n",
       "      <th>3</th>\n",
       "      <td>17506</td>\n",
       "      <td>341</td>\n",
       "      <td>2</td>\n",
       "      <td>2829</td>\n",
       "      <td>2.99</td>\n",
       "      <td>2007-02-19 19:39:56.996577</td>\n",
       "    </tr>\n",
       "    <tr>\n",
       "      <th>4</th>\n",
       "      <td>17507</td>\n",
       "      <td>341</td>\n",
       "      <td>2</td>\n",
       "      <td>3130</td>\n",
       "      <td>7.99</td>\n",
       "      <td>2007-02-20 17:31:48.996577</td>\n",
       "    </tr>\n",
       "    <tr>\n",
       "      <th>5</th>\n",
       "      <td>17508</td>\n",
       "      <td>341</td>\n",
       "      <td>1</td>\n",
       "      <td>3382</td>\n",
       "      <td>5.99</td>\n",
       "      <td>2007-02-21 12:33:49.996577</td>\n",
       "    </tr>\n",
       "    <tr>\n",
       "      <th>6</th>\n",
       "      <td>17509</td>\n",
       "      <td>342</td>\n",
       "      <td>2</td>\n",
       "      <td>2190</td>\n",
       "      <td>5.99</td>\n",
       "      <td>2007-02-17 23:58:17.996577</td>\n",
       "    </tr>\n",
       "    <tr>\n",
       "      <th>7</th>\n",
       "      <td>17510</td>\n",
       "      <td>342</td>\n",
       "      <td>1</td>\n",
       "      <td>2914</td>\n",
       "      <td>5.99</td>\n",
       "      <td>2007-02-20 02:11:44.996577</td>\n",
       "    </tr>\n",
       "    <tr>\n",
       "      <th>8</th>\n",
       "      <td>17511</td>\n",
       "      <td>342</td>\n",
       "      <td>1</td>\n",
       "      <td>3081</td>\n",
       "      <td>2.99</td>\n",
       "      <td>2007-02-20 13:57:39.996577</td>\n",
       "    </tr>\n",
       "    <tr>\n",
       "      <th>9</th>\n",
       "      <td>17512</td>\n",
       "      <td>343</td>\n",
       "      <td>2</td>\n",
       "      <td>1547</td>\n",
       "      <td>4.99</td>\n",
       "      <td>2007-02-16 00:10:50.996577</td>\n",
       "    </tr>\n",
       "  </tbody>\n",
       "</table>\n",
       "</div>"
      ],
      "text/plain": [
       "   payment_id  customer_id  staff_id  rental_id  amount  \\\n",
       "0       17503          341         2       1520    7.99   \n",
       "1       17504          341         1       1778    1.99   \n",
       "2       17505          341         1       1849    7.99   \n",
       "3       17506          341         2       2829    2.99   \n",
       "4       17507          341         2       3130    7.99   \n",
       "5       17508          341         1       3382    5.99   \n",
       "6       17509          342         2       2190    5.99   \n",
       "7       17510          342         1       2914    5.99   \n",
       "8       17511          342         1       3081    2.99   \n",
       "9       17512          343         2       1547    4.99   \n",
       "\n",
       "                payment_date  \n",
       "0 2007-02-15 22:25:46.996577  \n",
       "1 2007-02-16 17:23:14.996577  \n",
       "2 2007-02-16 22:41:45.996577  \n",
       "3 2007-02-19 19:39:56.996577  \n",
       "4 2007-02-20 17:31:48.996577  \n",
       "5 2007-02-21 12:33:49.996577  \n",
       "6 2007-02-17 23:58:17.996577  \n",
       "7 2007-02-20 02:11:44.996577  \n",
       "8 2007-02-20 13:57:39.996577  \n",
       "9 2007-02-16 00:10:50.996577  "
      ]
     },
     "execution_count": 25,
     "metadata": {},
     "output_type": "execute_result"
    }
   ],
   "source": [
    "# Utilize the create_pandas_table function to create a pandas dataframe\n",
    "# store as variable\n",
    "\n",
    "payment_database = create_pandas_table(\n",
    "\"\"\" \n",
    "SELECT *\n",
    "FROM payment\n",
    "LIMIT 10\n",
    "\"\"\")\n",
    "\n",
    "payment_database"
   ]
  },
  {
   "cell_type": "code",
   "execution_count": null,
   "id": "8c43ca16",
   "metadata": {},
   "outputs": [],
   "source": []
  }
 ],
 "metadata": {
  "kernelspec": {
   "display_name": "Python 3 (ipykernel)",
   "language": "python",
   "name": "python3"
  },
  "language_info": {
   "codemirror_mode": {
    "name": "ipython",
    "version": 3
   },
   "file_extension": ".py",
   "mimetype": "text/x-python",
   "name": "python",
   "nbconvert_exporter": "python",
   "pygments_lexer": "ipython3",
   "version": "3.9.12"
  }
 },
 "nbformat": 4,
 "nbformat_minor": 5
}
